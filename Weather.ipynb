{
  "nbformat": 4,
  "nbformat_minor": 0,
  "metadata": {
    "colab": {
      "name": "Untitled2.ipynb",
      "provenance": []
    },
    "kernelspec": {
      "name": "python3",
      "display_name": "Python 3"
    },
    "language_info": {
      "name": "python"
    }
  },
  "cells": [
    {
      "cell_type": "code",
      "metadata": {
        "colab": {
          "base_uri": "https://localhost:8080/"
        },
        "id": "mXHM7AEDSjmn",
        "outputId": "9017c00b-1fa4-4d6c-a56d-6b880cf46b67"
      },
      "source": [
        "import requests\n",
        "#import os\n",
        "from datetime import datetime\n",
        "\n",
        "api_key = '5a230909f22209c420b16f023762dc7f'\n",
        "location = input(\"Enter the city name: \")\n",
        "\n",
        "complete_api_link = \"https://api.openweathermap.org/data/2.5/weather?q=\"+location+\"&appid=\"+api_key\n",
        "api_link = requests.get(complete_api_link)\n",
        "api_data = api_link.json()\n",
        "\n",
        "#create variables to store and display data\n",
        "temp_city = ((api_data['main']['temp']) - 273.15)\n",
        "weather_desc = api_data['weather'][0]['description']\n",
        "hmdt = api_data['main']['humidity']\n",
        "wind_spd = api_data['wind']['speed']\n",
        "date_time = datetime.now().strftime(\"%d %b %Y | %I:%M:%S %p\")\n",
        "\n",
        "print (\"-------------------------------------------------------------\")\n",
        "print (\"Weather Stats for - {}  || {}\".format(location.upper(), date_time))\n",
        "print (\"-------------------------------------------------------------\")\n",
        "\n",
        "print (\"Current temperature is: {:.2f} deg C\".format(temp_city))\n",
        "print (\"Current weather desc  :\",weather_desc)\n",
        "print (\"Current Humidity      :\",hmdt, '%')\n",
        "print (\"Current wind speed    :\",wind_spd ,'kmph')\n",
        "\n",
        "with open(\"Output.txt\", \"w\") as text_file:\n",
        "  print (\"-------------------------------------------------------------\",file=text_file)\n",
        "  print (\"Weather Stats for - {}  || {}\".format(location.upper(), date_time),file=text_file)\n",
        "  print (\"-------------------------------------------------------------\",file=text_file)\n",
        "\n",
        "  print (\"Current temperature is: {:.2f} deg C\".format(temp_city),file=text_file)\n",
        "  print (\"Current weather desc  :\",weather_desc,file=text_file)\n",
        "  print (\"Current Humidity      :\",hmdt, '%',file=text_file)\n",
        "  print (\"Current wind speed    :\",wind_spd ,'kmph',file=text_file)"
      ],
      "execution_count": 7,
      "outputs": [
        {
          "output_type": "stream",
          "text": [
            "Enter the city name: coimbatore\n",
            "-------------------------------------------------------------\n",
            "Weather Stats for - COIMBATORE  || 22 Jun 2021 | 06:32:13 AM\n",
            "-------------------------------------------------------------\n",
            "Current temperature is: 30.00 deg C\n",
            "Current weather desc  : scattered clouds\n",
            "Current Humidity      : 58 %\n",
            "Current wind speed    : 3.09 kmph\n"
          ],
          "name": "stdout"
        }
      ]
    }
  ]
}